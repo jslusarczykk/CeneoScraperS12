{
 "cells": [
  {
   "attachments": {},
   "cell_type": "markdown",
   "metadata": {},
   "source": [
    "Ceneo Scraper"
   ]
  },
  {
   "attachments": {},
   "cell_type": "markdown",
   "metadata": {},
   "source": [
    "## Ekstracja składowych pojedynczej opinii\n",
    "|składowa|Selektor|Zmienna|\n",
    "|--------|--------|-------|\n",
    "|id opinii|[\"data-entry-id\"]|opinion_id\n",
    "|autor |span.user-post__author-name|author\n",
    "|rekomendacja |span.user-post__author-recomendation > em|recommendation\n",
    "|gwiazdki |span.user-post__score-count|rating\n",
    "|treść |div.user-post__text|content\n",
    "|lista zalet |div.review-feature__title--positives ~ div.review-feature__item|pros\n",
    "|lista wad |div.review-feature__title--negatives ~ div.review-feature__item|cons\n",
    "|dla ilu przydatna |span[id^=\"votes-yes\"]|useful\n",
    "|dla ilu nieprzydatna |span[id^=\"votes-no\"]|useless\n",
    "|data wystawienia |span.user-post__published > time:nth-child(1)[\"datetime\"]|post_date\n",
    "|data zakupu |span.user-post__published > time:nth-child(2)[\"datetime\"]|purchase_date"
   ]
  },
  {
   "attachments": {},
   "cell_type": "markdown",
   "metadata": {},
   "source": [
    "## biblioteki"
   ]
  },
  {
   "cell_type": "code",
   "execution_count": 1,
   "metadata": {},
   "outputs": [],
   "source": [
    "import json\n",
    "import os\n",
    "import requests\n",
    "from bs4 import BeautifulSoup"
   ]
  },
  {
   "attachments": {},
   "cell_type": "markdown",
   "metadata": {},
   "source": [
    "## Wysyłanie żądania dostępu do zasobu do serwera"
   ]
  },
  {
   "cell_type": "code",
   "execution_count": 2,
   "metadata": {},
   "outputs": [],
   "source": [
    "product_id = \"114700014\" \n",
    "url= f\"https://www.ceneo.pl/{product_id}/opinie-1\"\n",
    "#response = requests.get(url) kopiujemy do petli dla kazdego z osobna\n",
    "#response.status_code"
   ]
  },
  {
   "cell_type": "code",
   "execution_count": 3,
   "metadata": {},
   "outputs": [
    {
     "name": "stdout",
     "output_type": "stream",
     "text": [
      "https://www.ceneo.pl/114700014/opinie-1\n",
      "https://www.ceneo.pl/114700014/opinie-2\n",
      "https://www.ceneo.pl/114700014/opinie-3\n",
      "https://www.ceneo.pl/114700014/opinie-4\n",
      "https://www.ceneo.pl/114700014/opinie-5\n",
      "https://www.ceneo.pl/114700014/opinie-6\n",
      "https://www.ceneo.pl/114700014/opinie-7\n",
      "https://www.ceneo.pl/114700014/opinie-8\n",
      "https://www.ceneo.pl/114700014/opinie-9\n",
      "https://www.ceneo.pl/114700014/opinie-10\n",
      "https://www.ceneo.pl/114700014/opinie-11\n",
      "https://www.ceneo.pl/114700014/opinie-12\n",
      "https://www.ceneo.pl/114700014/opinie-13\n",
      "https://www.ceneo.pl/114700014/opinie-14\n",
      "https://www.ceneo.pl/114700014/opinie-15\n",
      "https://www.ceneo.pl/114700014/opinie-16\n",
      "https://www.ceneo.pl/114700014/opinie-17\n",
      "https://www.ceneo.pl/114700014/opinie-18\n"
     ]
    }
   ],
   "source": [
    "all_opinions = []\n",
    "while (url):\n",
    "    print(url)\n",
    "    response = requests.get(url)\n",
    "    page_dom = BeautifulSoup(response.text, \"html.parser\")\n",
    "#print(type(page_dom))\n",
    "    opinions = page_dom.select(\"div.js_product-review\")\n",
    "#print(type(opinions))\n",
    "#opinion=opinions.pop(0)\n",
    "#print(type(opinion))\n",
    "#print(opinion)\n",
    "    for opinion in opinions:\n",
    "        try:\n",
    "            single_opinion = {\n",
    "                \"opinion_id\" : opinion[\"data-entry-id\"],\n",
    "                \"author\": opinion.select_one(\"span.user-post__author-name\").get_text().strip(),\n",
    "                \"recommendation\": opinion.select_one(\"span.user-post__author-recomendation > em\").get_text().strip(),\n",
    "                \"rating\": opinion.select_one(\"span.user-post__score-count\").get_text().strip(),\n",
    "                \"content\": opinion.select_one(\"div.user-post__text\").get_text().strip(),\n",
    "                \"pros\": [p.get_text().strip() for p in opinion.select(\"div.review-feature__title--positives ~ div.review-feature__item\")],\n",
    "                \"cons\": [c.get_text().strip() for c in opinion.select(\"div.review-feature__title--negatives ~ div.review-feature__item\")],\n",
    "                \"useful\" : opinion.select_one(\"span[id^='votes-yes']\").get_text().strip(),\n",
    "              \"useless\": opinion.select_one(\"span[id^='votes-no']\").get_text().strip(),\n",
    "              \"post_date\": opinion.select_one(\"span.user-post__published > time:nth-child(1)\")[\"datetime\"].strip(),\n",
    "              \"purchase_date\": opinion.select_one(\"span.user-post__published > time:nth-child(2)\")[\"datetime\"].strip(),\n",
    "            }\n",
    "            all_opinions.append(single_opinion)\n",
    "        except (AttributeError,TypeError):\n",
    "            pass\n",
    "    try:\n",
    "        url = \"https://www.ceneo.pl\"+page_dom.select_one(\"a.pagination__next\")[\"href\"]\n",
    "    except TypeError:\n",
    "        url = None"
   ]
  },
  {
   "cell_type": "code",
   "execution_count": null,
   "metadata": {},
   "outputs": [],
   "source": [
    "\n",
    "single_opinion = {\n",
    "\"opinion_id\" : opinion[\"data-entry-id\"],\n",
    "\"author\": opinion.select_one(\"span.user-post__author-name\").get_text().strip(),\n",
    "\"recommendation\": opinion.select_one(\"span.user-post__author-recomendation > em\").get_text().strip(),\n",
    "\"rating\": opinion.select_one(\"span.user-post__score-count\").get_text().strip(),\n",
    "\"content\": opinion.select_one(\"div.user-post__text\").get_text().strip(),\n",
    "\"pros\": [p.get_text().strip() for p in opinion.select(\"div.review-feature__title--positives ~ div.review-feature__item\")],\n",
    "\"cons\": [c.get_text().strip() for c in opinion.select(\"div.review-feature__title--negatives ~ div.review-feature__item\")],\n",
    "\"useful\" : opinion.select_one(\"span[id^='votes-yes']\").get_text().strip(),\n",
    "\"useless\": opinion.select_one(\"span[id^='votes-no']\").get_text().strip(),\n",
    "\"post_date\": opinion.select_one(\"span.user-post__published > time:nth-child(1)\")[\"datetime\"].strip(),\n",
    "\"purchase_date\": opinion.select_one(\"span.user-post__published > time:nth-child(2)\")[\"datetime\"].strip(),\n",
    "}"
   ]
  },
  {
   "attachments": {},
   "cell_type": "markdown",
   "metadata": {},
   "source": []
  },
  {
   "cell_type": "code",
   "execution_count": 4,
   "metadata": {},
   "outputs": [],
   "source": [
    "#print(single_opinion)\n",
    "if not os.path.exists(\"opinions\"):\n",
    "    os.mkdir(\"opinions\")\n",
    "\n",
    "#print(json.dumps(all_opinions, indent=4, ensure_ascii=False))\n",
    "with open(f\"opinions/{product_id}.json\", \"w\", encoding=\"UTF-8\") as jf:\n",
    "    json.dump(all_opinions, jf, indent=4, ensure_ascii=False)"
   ]
  },
  {
   "cell_type": "code",
   "execution_count": null,
   "metadata": {},
   "outputs": [],
   "source": [
    "len(opinions)"
   ]
  }
 ],
 "metadata": {
  "kernelspec": {
   "display_name": ".venv",
   "language": "python",
   "name": "python3"
  },
  "language_info": {
   "codemirror_mode": {
    "name": "ipython",
    "version": 3
   },
   "file_extension": ".py",
   "mimetype": "text/x-python",
   "name": "python",
   "nbconvert_exporter": "python",
   "pygments_lexer": "ipython3",
   "version": "3.11.4"
  },
  "orig_nbformat": 4
 },
 "nbformat": 4,
 "nbformat_minor": 2
}

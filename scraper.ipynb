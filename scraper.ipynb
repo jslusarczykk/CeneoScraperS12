{
 "cells": [
  {
   "attachments": {},
   "cell_type": "markdown",
   "metadata": {},
   "source": [
    "Ceneo Scraper"
   ]
  },
  {
   "attachments": {},
   "cell_type": "markdown",
   "metadata": {},
   "source": [
    "## Ekstracja składowych pojedynczej opinii\n",
    "|składowa|Selektor|Zmienna|\n",
    "|--------|--------|-------|\n",
    "|id opinii|[\"data-entry-id\"]|opinion_id\n",
    "|autor |span.user-post__author-name|author\n",
    "|rekomendacja |span.user-post__author-recomendation > em|recommendation\n",
    "|gwiazdki |span.user-post__score-count|rating\n",
    "|treść |div.user-post__text|content\n",
    "|lista zalet |div.review-feature__title--positives ~ div.review-feature__item|pros\n",
    "|lista wad |div.review-feature__title--negatives ~ div.review-feature__item|cons\n",
    "|dla ilu przydatna |span[id^=\"votes-yes\"]|useful\n",
    "|dla ilu nieprzydatna |span[id^=\"votes-no\"]|useless\n",
    "|data wystawienia |span.user-post__published > time:nth-child(1)[\"datetime\"]|post_date\n",
    "|data zakupu |span.user-post__published > time:nth-child(2)[\"datetime\"]|purchase_date"
   ]
  },
  {
   "attachments": {},
   "cell_type": "markdown",
   "metadata": {},
   "source": [
    "## biblioteki"
   ]
  },
  {
   "cell_type": "code",
   "execution_count": 1,
   "metadata": {},
   "outputs": [],
   "source": [
    "import json\n",
    "import os\n",
    "import requests\n",
    "from bs4 import BeautifulSoup"
   ]
  },
  {
   "cell_type": "markdown",
   "metadata": {},
   "source": [
    "## Funkcja do ekstrakcji zawartości ze strony html"
   ]
  },
  {
   "cell_type": "code",
   "execution_count": 2,
   "metadata": {},
   "outputs": [],
   "source": [
    "def extract(ancestor, selector=None, attribute=None, returns_list=False):\n",
    "    if selector:\n",
    "        if returns_list:\n",
    "            if attribute:\n",
    "                return [tag[attribute].strip() for tag in ancestor.select(selector)]\n",
    "            return [tag.get_text().strip() for tag in ancestor.select(selector)]\n",
    "        if attribute:\n",
    "            try:\n",
    "                return ancestor.select_one(selector)[attribute].strip()\n",
    "            except TypeError:\n",
    "                return None\n",
    "        try:\n",
    "            return ancestor.select_one(selector).get_text().strip() \n",
    "        except AttributeError:\n",
    "            return None\n",
    "    if attribute :\n",
    "        return ancestor[attribute].strip()\n",
    "    return ancestor.get_text().strip\n",
    "   \n"
   ]
  },
  {
   "cell_type": "markdown",
   "metadata": {},
   "source": [
    "## Słownik reprezentujacy strukture cos tam"
   ]
  },
  {
   "cell_type": "code",
   "execution_count": 3,
   "metadata": {},
   "outputs": [],
   "source": [
    "selectors = {\n",
    "                \"opinion_id\" : (None, \"data-entry-id\"),\n",
    "                \"author\": (\"span.user-post__author-name\",),\n",
    "                \"recommendation\":(\"span.user-post__author-recomendation > em\",),\n",
    "                \"rating\": (\"span.user-post__score-count\",),\n",
    "                \"content\":(\"div.user-post__text\",),\n",
    "                \"pros\": (\"div.review-feature__title--positives ~ div.review-feature__item\",  None, True),\n",
    "                \"cons\": (\"div.review-feature__title--negatives ~ div.review-feature__item\", None, True),\n",
    "                \"useful\" : (\"span[id^='votes-yes']\",),\n",
    "              \"useless\": (\"span[id^='votes-no']\",),\n",
    "              \"post_date\": (\"span.user-post__published > time:nth-child(1)\",\"datetime\"),\n",
    "              \"purchase_date\": (\"span.user-post__published > time:nth-child(2)\",\"datetime\"),\n",
    "            }"
   ]
  },
  {
   "attachments": {},
   "cell_type": "markdown",
   "metadata": {},
   "source": [
    "## Wysyłanie żądania dostępu do zasobu do serwera"
   ]
  },
  {
   "cell_type": "markdown",
   "metadata": {},
   "source": [
    "## Link do pierwszej strony z opiniamii o wskazanym produkcie"
   ]
  },
  {
   "cell_type": "code",
   "execution_count": 5,
   "metadata": {},
   "outputs": [],
   "source": [
    "product_id = input(\"Podaj kod produktu z serwisu CeneoPL\")\n",
    "url= f\"https://www.ceneo.pl/{product_id}/opinie-1\"\n",
    "#response = requests.get(url) kopiujemy do petli dla kazdego z osobna\n",
    "#response.status_code"
   ]
  },
  {
   "cell_type": "markdown",
   "metadata": {},
   "source": [
    "## Pobranie wszystkich opinii o wskazanym produkcie"
   ]
  },
  {
   "cell_type": "code",
   "execution_count": 6,
   "metadata": {},
   "outputs": [],
   "source": [
    "all_opinions = []\n",
    "while (url):\n",
    "    #print(url)\n",
    "    response = requests.get(url)\n",
    "    page_dom = BeautifulSoup(response.text, \"html.parser\")\n",
    "#print(type(page_dom))\n",
    "    opinions = page_dom.select(\"div.js_product-review\")\n",
    "#print(type(opinions))\n",
    "#opinion=opinions.pop(0)\n",
    "#print(type(opinion))\n",
    "#print(opinion)\n",
    "    for opinion in opinions:\n",
    "            single_opinion = {\n",
    "                key: extract(opinion, *value) #gwiazdka rozbija nam krotkę na pojedyncze wartosci\n",
    "                    for key, value in selectors.items()\n",
    "            }\n",
    "            all_opinions.append(single_opinion)\n",
    "    try:\n",
    "        url = \"https://www.ceneo.pl\"+extract(page_dom,\"a.pagination__next\",\"href\")\n",
    "    except TypeError:\n",
    "        url = None"
   ]
  },
  {
   "cell_type": "code",
   "execution_count": 7,
   "metadata": {},
   "outputs": [
    {
     "ename": "TypeError",
     "evalue": "'NoneType' object is not subscriptable",
     "output_type": "error",
     "traceback": [
      "\u001b[1;31m---------------------------------------------------------------------------\u001b[0m",
      "\u001b[1;31mTypeError\u001b[0m                                 Traceback (most recent call last)",
      "Cell \u001b[1;32mIn[7], line 12\u001b[0m\n\u001b[0;32m      1\u001b[0m single_opinion \u001b[38;5;241m=\u001b[39m {\n\u001b[0;32m      2\u001b[0m \u001b[38;5;124m\"\u001b[39m\u001b[38;5;124mopinion_id\u001b[39m\u001b[38;5;124m\"\u001b[39m : opinion[\u001b[38;5;124m\"\u001b[39m\u001b[38;5;124mdata-entry-id\u001b[39m\u001b[38;5;124m\"\u001b[39m],\n\u001b[0;32m      3\u001b[0m \u001b[38;5;124m\"\u001b[39m\u001b[38;5;124mauthor\u001b[39m\u001b[38;5;124m\"\u001b[39m: opinion\u001b[38;5;241m.\u001b[39mselect_one(\u001b[38;5;124m\"\u001b[39m\u001b[38;5;124mspan.user-post__author-name\u001b[39m\u001b[38;5;124m\"\u001b[39m)\u001b[38;5;241m.\u001b[39mget_text()\u001b[38;5;241m.\u001b[39mstrip(),\n\u001b[0;32m      4\u001b[0m \u001b[38;5;124m\"\u001b[39m\u001b[38;5;124mrecommendation\u001b[39m\u001b[38;5;124m\"\u001b[39m: opinion\u001b[38;5;241m.\u001b[39mselect_one(\u001b[38;5;124m\"\u001b[39m\u001b[38;5;124mspan.user-post__author-recomendation > em\u001b[39m\u001b[38;5;124m\"\u001b[39m)\u001b[38;5;241m.\u001b[39mget_text()\u001b[38;5;241m.\u001b[39mstrip(),\n\u001b[0;32m      5\u001b[0m \u001b[38;5;124m\"\u001b[39m\u001b[38;5;124mrating\u001b[39m\u001b[38;5;124m\"\u001b[39m: opinion\u001b[38;5;241m.\u001b[39mselect_one(\u001b[38;5;124m\"\u001b[39m\u001b[38;5;124mspan.user-post__score-count\u001b[39m\u001b[38;5;124m\"\u001b[39m)\u001b[38;5;241m.\u001b[39mget_text()\u001b[38;5;241m.\u001b[39mstrip(),\n\u001b[0;32m      6\u001b[0m \u001b[38;5;124m\"\u001b[39m\u001b[38;5;124mcontent\u001b[39m\u001b[38;5;124m\"\u001b[39m: opinion\u001b[38;5;241m.\u001b[39mselect_one(\u001b[38;5;124m\"\u001b[39m\u001b[38;5;124mdiv.user-post__text\u001b[39m\u001b[38;5;124m\"\u001b[39m)\u001b[38;5;241m.\u001b[39mget_text()\u001b[38;5;241m.\u001b[39mstrip(),\n\u001b[0;32m      7\u001b[0m \u001b[38;5;124m\"\u001b[39m\u001b[38;5;124mpros\u001b[39m\u001b[38;5;124m\"\u001b[39m: [p\u001b[38;5;241m.\u001b[39mget_text()\u001b[38;5;241m.\u001b[39mstrip() \u001b[38;5;28;01mfor\u001b[39;00m p \u001b[38;5;129;01min\u001b[39;00m opinion\u001b[38;5;241m.\u001b[39mselect(\u001b[38;5;124m\"\u001b[39m\u001b[38;5;124mdiv.review-feature__title--positives ~ div.review-feature__item\u001b[39m\u001b[38;5;124m\"\u001b[39m)],\n\u001b[0;32m      8\u001b[0m \u001b[38;5;124m\"\u001b[39m\u001b[38;5;124mcons\u001b[39m\u001b[38;5;124m\"\u001b[39m: [c\u001b[38;5;241m.\u001b[39mget_text()\u001b[38;5;241m.\u001b[39mstrip() \u001b[38;5;28;01mfor\u001b[39;00m c \u001b[38;5;129;01min\u001b[39;00m opinion\u001b[38;5;241m.\u001b[39mselect(\u001b[38;5;124m\"\u001b[39m\u001b[38;5;124mdiv.review-feature__title--negatives ~ div.review-feature__item\u001b[39m\u001b[38;5;124m\"\u001b[39m)],\n\u001b[0;32m      9\u001b[0m \u001b[38;5;124m\"\u001b[39m\u001b[38;5;124museful\u001b[39m\u001b[38;5;124m\"\u001b[39m : opinion\u001b[38;5;241m.\u001b[39mselect_one(\u001b[38;5;124m\"\u001b[39m\u001b[38;5;124mspan[id^=\u001b[39m\u001b[38;5;124m'\u001b[39m\u001b[38;5;124mvotes-yes\u001b[39m\u001b[38;5;124m'\u001b[39m\u001b[38;5;124m]\u001b[39m\u001b[38;5;124m\"\u001b[39m)\u001b[38;5;241m.\u001b[39mget_text()\u001b[38;5;241m.\u001b[39mstrip(),\n\u001b[0;32m     10\u001b[0m \u001b[38;5;124m\"\u001b[39m\u001b[38;5;124museless\u001b[39m\u001b[38;5;124m\"\u001b[39m: opinion\u001b[38;5;241m.\u001b[39mselect_one(\u001b[38;5;124m\"\u001b[39m\u001b[38;5;124mspan[id^=\u001b[39m\u001b[38;5;124m'\u001b[39m\u001b[38;5;124mvotes-no\u001b[39m\u001b[38;5;124m'\u001b[39m\u001b[38;5;124m]\u001b[39m\u001b[38;5;124m\"\u001b[39m)\u001b[38;5;241m.\u001b[39mget_text()\u001b[38;5;241m.\u001b[39mstrip(),\n\u001b[0;32m     11\u001b[0m \u001b[38;5;124m\"\u001b[39m\u001b[38;5;124mpost_date\u001b[39m\u001b[38;5;124m\"\u001b[39m: opinion\u001b[38;5;241m.\u001b[39mselect_one(\u001b[38;5;124m\"\u001b[39m\u001b[38;5;124mspan.user-post__published > time:nth-child(1)\u001b[39m\u001b[38;5;124m\"\u001b[39m)[\u001b[38;5;124m\"\u001b[39m\u001b[38;5;124mdatetime\u001b[39m\u001b[38;5;124m\"\u001b[39m]\u001b[38;5;241m.\u001b[39mstrip(),\n\u001b[1;32m---> 12\u001b[0m \u001b[38;5;124m\"\u001b[39m\u001b[38;5;124mpurchase_date\u001b[39m\u001b[38;5;124m\"\u001b[39m: \u001b[43mopinion\u001b[49m\u001b[38;5;241;43m.\u001b[39;49m\u001b[43mselect_one\u001b[49m\u001b[43m(\u001b[49m\u001b[38;5;124;43m\"\u001b[39;49m\u001b[38;5;124;43mspan.user-post__published > time:nth-child(2)\u001b[39;49m\u001b[38;5;124;43m\"\u001b[39;49m\u001b[43m)\u001b[49m\u001b[43m[\u001b[49m\u001b[38;5;124;43m\"\u001b[39;49m\u001b[38;5;124;43mdatetime\u001b[39;49m\u001b[38;5;124;43m\"\u001b[39;49m\u001b[43m]\u001b[49m\u001b[38;5;241m.\u001b[39mstrip(),\n\u001b[0;32m     13\u001b[0m }\n",
      "\u001b[1;31mTypeError\u001b[0m: 'NoneType' object is not subscriptable"
     ]
    }
   ],
   "source": [
    "\n",
    "single_opinion = {\n",
    "\"opinion_id\" : opinion[\"data-entry-id\"],\n",
    "\"author\": opinion.select_one(\"span.user-post__author-name\").get_text().strip(),\n",
    "\"recommendation\": opinion.select_one(\"span.user-post__author-recomendation > em\").get_text().strip(),\n",
    "\"rating\": opinion.select_one(\"span.user-post__score-count\").get_text().strip(),\n",
    "\"content\": opinion.select_one(\"div.user-post__text\").get_text().strip(),\n",
    "\"pros\": [p.get_text().strip() for p in opinion.select(\"div.review-feature__title--positives ~ div.review-feature__item\")],\n",
    "\"cons\": [c.get_text().strip() for c in opinion.select(\"div.review-feature__title--negatives ~ div.review-feature__item\")],\n",
    "\"useful\" : opinion.select_one(\"span[id^='votes-yes']\").get_text().strip(),\n",
    "\"useless\": opinion.select_one(\"span[id^='votes-no']\").get_text().strip(),\n",
    "\"post_date\": opinion.select_one(\"span.user-post__published > time:nth-child(1)\")[\"datetime\"].strip(),\n",
    "\"purchase_date\": opinion.select_one(\"span.user-post__published > time:nth-child(2)\")[\"datetime\"].strip(),\n",
    "}"
   ]
  },
  {
   "attachments": {},
   "cell_type": "markdown",
   "metadata": {},
   "source": []
  },
  {
   "cell_type": "markdown",
   "metadata": {},
   "source": [
    "## Zapis opinii o wskazanym produkcie do pliku JSON"
   ]
  },
  {
   "cell_type": "code",
   "execution_count": 8,
   "metadata": {},
   "outputs": [],
   "source": [
    "#print(single_opinion)\n",
    "if not os.path.exists(\"opinions\"):\n",
    "    os.mkdir(\"opinions\")\n",
    "\n",
    "#print(json.dumps(all_opinions, indent=4, ensure_ascii=False))\n",
    "with open(f\"opinions/{product_id}.json\", \"w\", encoding=\"UTF-8\") as jf:\n",
    "    json.dump(all_opinions, jf, indent=4, ensure_ascii=False)"
   ]
  },
  {
   "cell_type": "code",
   "execution_count": 37,
   "metadata": {},
   "outputs": [
    {
     "data": {
      "text/plain": [
       "10"
      ]
     },
     "execution_count": 37,
     "metadata": {},
     "output_type": "execute_result"
    }
   ],
   "source": [
    "len(opinions)"
   ]
  }
 ],
 "metadata": {
  "kernelspec": {
   "display_name": ".venv",
   "language": "python",
   "name": "python3"
  },
  "language_info": {
   "codemirror_mode": {
    "name": "ipython",
    "version": 3
   },
   "file_extension": ".py",
   "mimetype": "text/x-python",
   "name": "python",
   "nbconvert_exporter": "python",
   "pygments_lexer": "ipython3",
   "version": "3.11.4"
  },
  "orig_nbformat": 4
 },
 "nbformat": 4,
 "nbformat_minor": 2
}
